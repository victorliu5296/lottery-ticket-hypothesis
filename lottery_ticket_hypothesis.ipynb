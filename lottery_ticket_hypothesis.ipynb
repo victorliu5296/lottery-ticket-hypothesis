import torch
import torch.nn as nn
import torch.optim as optim
import torch.nn.functional as F
from torchvision import datasets, transforms
from torch.utils.data import DataLoader
import torch.nn.utils.prune as prune
import matplotlib.pyplot as plt
from sklearn.metrics import confusion_matrix, ConfusionMatrixDisplay
import numpy as np
import time
from tqdm import tqdm

# Step 1: Define the Network
class SimpleFC(nn.Module):
    def __init__(self):
        super(SimpleFC, self).__init__()
        self.fc1 = nn.Linear(28*28, 300)
        self.fc2 = nn.Linear(300, 100)
        self.fc3 = nn.Linear(100, 10)
    
    def forward(self, x):
        x = x.view(-1, 28*28)
        x = F.relu(self.fc1(x))
        x = F.relu(self.fc2(x))
        x = self.fc3(x)
        return F.log_softmax(x, dim=1)

# Step 2: Load the MNIST Dataset
transform = transforms.Compose([
    transforms.ToTensor(),
    transforms.Normalize((0.1307,), (0.3081,))
])

train_dataset = datasets.MNIST(root='./data', train=True, download=True, transform=transform)
test_dataset = datasets.MNIST(root='./data', train=False, download=True, transform=transform)

train_loader = DataLoader(train_dataset, batch_size=64, shuffle=True)
test_loader = DataLoader(test_dataset, batch_size=1000, shuffle=False)

# Step 3: Train the Baseline Network
def train(model, device, train_loader, optimizer, epoch, losses, accuracies):
    model.train()
    epoch_loss = 0
    correct = 0
    for batch_idx, (data, target) in enumerate(tqdm(train_loader, desc=f"Epoch {epoch} Training")):
        data, target = data.to(device), target.to(device)
        optimizer.zero_grad()
        output = model(data)
        loss = F.nll_loss(output, target)
        loss.backward()
        optimizer.step()

        epoch_loss += loss.item()
        pred = output.argmax(dim=1, keepdim=True)
        correct += pred.eq(target.view_as(pred)).sum().item()

    losses.append(epoch_loss / len(train_loader))
    accuracies.append(100. * correct / len(train_loader.dataset))

def test(model, device, test_loader):
    model.eval()
    test_loss = 0
    correct = 0
    all_preds = []
    all_targets = []
    with torch.no_grad():
        for data, target in tqdm(test_loader, desc="Testing"):
            data, target = data.to(device), target.to(device)
            output = model(data)
            test_loss += F.nll_loss(output, target, reduction='sum').item()
            pred = output.argmax(dim=1, keepdim=True)
            correct += pred.eq(target.view_as(pred)).sum().item()
            all_preds.extend(pred.cpu().numpy())
            all_targets.extend(target.cpu().numpy())

    test_loss /= len(test_loader.dataset)
    accuracy = 100. * correct / len(test_loader.dataset)
    return test_loss, accuracy, np.array(all_preds), np.array(all_targets)

def count_nonzero_parameters(model):
    nonzero_params = 0
    for module in model.modules():
        if isinstance(module, nn.Linear):
            nonzero_params += torch.sum(module.weight != 0).item()
    return nonzero_params

device = torch.device("cuda" if torch.cuda.is_available() else "cpu")
model = SimpleFC().to(device)
optimizer = optim.Adam(model.parameters())

# Variables for tracking results
original_nonzero_params = count_nonzero_parameters(model)
pruning_iterations = 5
pruning_percentage = 0.2
all_accuracies = []
all_model_sizes = []
all_times = []
train_losses = []
train_accuracies = []

print("Training the baseline model...")
start_time = time.time()
for epoch in range(1, 6):
    train(model, device, train_loader, optimizer, epoch, train_losses, train_accuracies)
test_loss, accuracy, _, _ = test(model, device, test_loader)
end_time = time.time()

baseline_time = end_time - start_time
all_accuracies.append(accuracy)
all_model_sizes.append(original_nonzero_params)
all_times.append(baseline_time)

print(f'Baseline Model - Test loss: {test_loss:.4f}, Accuracy: {accuracy:.2f}%')
print(f'Baseline Model Size: {original_nonzero_params} non-zero parameters')
print(f'Training Time: {baseline_time:.2f} seconds')

# Step 4: Iterative Pruning and Retraining
def prune_weights_and_retain_masks(model, pruning_perc):
    parameters_to_prune = []
    for name, module in model.named_modules():
        if isinstance(module, nn.Linear):
            parameters_to_prune.append((module, 'weight'))

    # Apply pruning without removing the pruning mask
    prune.global_unstructured(
        parameters_to_prune,
        pruning_method=prune.L1Unstructured,
        amount=pruning_perc,
    )

for iteration in range(1, pruning_iterations + 1):
    print(f'\n--- Pruning Iteration {iteration} ---')
    
    # Prune the model and retain masks
    prune_weights_and_retain_masks(model, pruning_percentage)
    
    # Check the number of remaining non-zero parameters
    pruned_nonzero_params = count_nonzero_parameters(model)
    print(f'Pruned Model Size: {pruned_nonzero_params} non-zero parameters ({100 * pruned_nonzero_params / original_nonzero_params:.2f}% of original)')

    # Reinitialize and retrain the pruned model
    print("Retraining the pruned model...")
    model.apply(lambda m: m.reset_parameters() if hasattr(m, 'reset_parameters') else None)
    
    optimizer = optim.Adam(model.parameters())
    
    iteration_losses = []
    iteration_accuracies = []

    start_time = time.time()
    for epoch in range(1, 6):
        train(model, device, train_loader, optimizer, epoch, iteration_losses, iteration_accuracies)
    test_loss, accuracy, preds, targets = test(model, device, test_loader)
    end_time = time.time()

    # Track the results
    all_accuracies.append(accuracy)
    all_model_sizes.append(pruned_nonzero_params)
    all_times.append(end_time - start_time)

    # Confusion Matrix
    cm = confusion_matrix(targets, preds)
    disp = ConfusionMatrixDisplay(confusion_matrix=cm, display_labels=[i for i in range(10)])
    disp.plot(cmap=plt.cm.Blues)
    plt.title(f'Confusion Matrix - Pruning Iteration {iteration}')
    plt.show()

    print(f'Pruned Model - Test loss: {test_loss:.4f}, Accuracy: {accuracy:.2f}%')
    print(f'Training Time: {end_time - start_time:.2f} seconds')

# Step 5: Visualizations

# Accuracy vs Model Size
plt.figure(figsize=(10, 5))
plt.plot(all_model_sizes, all_accuracies, marker='o')
plt.xlabel('Number of Non-Zero Parameters')
plt.ylabel('Accuracy (%)')
plt.title('Accuracy vs Model Size')
plt.grid(True)
plt.show()

# Accuracy vs Training Time
plt.figure(figsize=(10, 5))
plt.plot(all_times, all_accuracies, marker='o')
plt.xlabel('Training Time (seconds)')
plt.ylabel('Accuracy (%)')
plt.title('Accuracy vs Training Time')
plt.grid(True)
plt.show()

# Training Loss and Accuracy over Epochs
plt.figure(figsize=(10, 5))
plt.subplot(1, 2, 1)
plt.plot(train_losses, marker='o')
plt.xlabel('Epochs')
plt.ylabel('Loss')
plt.title('Training Loss over Epochs')

plt.subplot(1, 2, 2)
plt.plot(train_accuracies, marker='o')
plt.xlabel('Epochs')
plt.ylabel('Accuracy (%)')
plt.title('Training Accuracy over Epochs')

plt.tight_layout()
plt.show()
